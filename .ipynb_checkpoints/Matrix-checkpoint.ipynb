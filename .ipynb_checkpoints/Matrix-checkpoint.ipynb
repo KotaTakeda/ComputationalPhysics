{
 "cells": [
  {
   "cell_type": "code",
   "execution_count": 1,
   "metadata": {},
   "outputs": [],
   "source": [
    "from numpy import *\n",
    "from numpy.linalg import *\n"
   ]
  },
  {
   "cell_type": "code",
   "execution_count": 9,
   "metadata": {},
   "outputs": [
    {
     "name": "stdout",
     "output_type": "stream",
     "text": [
      "[[0.00000000e+00 1.04083409e-17 0.00000000e+00]\n",
      " [8.32667268e-17 0.00000000e+00 1.11022302e-16]\n",
      " [2.77555756e-17 0.00000000e+00 1.11022302e-16]]\n",
      "[[0.00000000e+00 0.00000000e+00 8.67361738e-19]\n",
      " [1.38777878e-17 0.00000000e+00 0.00000000e+00]\n",
      " [6.93889390e-18 3.46944695e-18 1.38777878e-17]]\n"
     ]
    }
   ],
   "source": [
    "A = array([[4,-2,1],[3,6,-4],[2,1,8]])\n",
    "A_inv = array([[52,17,2],[-32,30,19],[-9,-8,30]])/263\n",
    "I = identity(3)\n",
    "print(abs(inv(A)@A - I))\n",
    "print(abs(inv(A) - A_inv))"
   ]
  },
  {
   "cell_type": "code",
   "execution_count": 11,
   "metadata": {},
   "outputs": [
    {
     "name": "stdout",
     "output_type": "stream",
     "text": [
      "x1 = [ 0.98479087 -2.14448669  3.77186312]\n",
      "x2 = [ 0.31178707 -0.03802281  2.67680608]\n",
      "x3 = [ 2.31939163 -2.96577947  4.79087452]\n"
     ]
    }
   ],
   "source": [
    "b1, b2, b3 = array([12,-25,30]), array([4,-10,22]), array([20,-30,40])\n",
    "x1, x2, x3 = solve(A, b1),solve(A, b2),solve(A, b3)\n",
    "print(\"x1 =\",x1)\n",
    "print(\"x2 =\",x2)\n",
    "print(\"x3 =\",x3)"
   ]
  },
  {
   "cell_type": "markdown",
   "metadata": {},
   "source": [
    "### 固有値問題"
   ]
  },
  {
   "cell_type": "code",
   "execution_count": 22,
   "metadata": {},
   "outputs": [
    {
     "data": {
      "text/plain": [
       "((array([5., 3.]), array([[ 0.70710678, -0.70710678],\n",
       "         [ 0.70710678,  0.70710678]])),\n",
       " (array([3., 5.]), array([[-0.70710678,  0.70710678],\n",
       "         [ 0.70710678,  0.70710678]])))"
      ]
     },
     "execution_count": 22,
     "metadata": {},
     "output_type": "execute_result"
    }
   ],
   "source": [
    "a, b = 2., 1.\n",
    "Z = array([[a,b],[-b,a]])\n",
    "eigvals(Z)\n",
    "Z2 = Z*Z\n",
    "eig(Z2),eigh(Z2)"
   ]
  },
  {
   "cell_type": "markdown",
   "metadata": {},
   "source": [
    "固有ベクトルは列ベクトルとして並んだ形で返される"
   ]
  },
  {
   "cell_type": "code",
   "execution_count": 38,
   "metadata": {},
   "outputs": [
    {
     "data": {
      "text/plain": [
       "(array([ 0.40824829,  0.81649658, -0.40824829]),\n",
       " array([-0.40824829, -0.81649658,  0.40824829]),\n",
       " array([-1., -1., -1.]))"
      ]
     },
     "execution_count": 38,
     "metadata": {},
     "output_type": "execute_result"
    }
   ],
   "source": [
    "B = array([[-2,2,-3],[2,1,-6],[-1,-2,0]])\n",
    "x1 = array([-1,-2,1])/sqrt(6)\n",
    "\n",
    "eig(B)[1][:,1],x1,eig(B)[1][:,1]/x1"
   ]
  },
  {
   "cell_type": "code",
   "execution_count": null,
   "metadata": {},
   "outputs": [],
   "source": []
  }
 ],
 "metadata": {
  "kernelspec": {
   "display_name": "Python 3",
   "language": "python",
   "name": "python3"
  },
  "language_info": {
   "codemirror_mode": {
    "name": "ipython",
    "version": 3
   },
   "file_extension": ".py",
   "mimetype": "text/x-python",
   "name": "python",
   "nbconvert_exporter": "python",
   "pygments_lexer": "ipython3",
   "version": "3.7.4"
  }
 },
 "nbformat": 4,
 "nbformat_minor": 2
}
