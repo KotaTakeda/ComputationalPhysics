{
 "cells": [
  {
   "cell_type": "markdown",
   "metadata": {},
   "source": [
    "## ガウス求積"
   ]
  },
  {
   "cell_type": "code",
   "execution_count": 19,
   "metadata": {},
   "outputs": [
    {
     "name": "stdout",
     "output_type": "stream",
     "text": [
      "i = 3 err 0.02960566814346166\n",
      "i = 5 err 0.05474495104630772\n",
      "i = 7 err 0.06764865297699896\n",
      "i = 9 err 0.07543307621709627\n",
      "i = 11 err 0.08062902183618548\n"
     ]
    }
   ],
   "source": [
    "from numpy import *\n",
    "from sys import version\n",
    "\n",
    "max_in = 11\n",
    "vmin  = 0.; vmax = 1.;\n",
    "ME = 2.718284590452354\n",
    "w = zeros((2001) ,  float)\n",
    "x  =zeros((2001), float)\n",
    "\n",
    "def f(x):\n",
    "    return exp(-x)\n",
    "#     return x**5\n",
    "\n",
    "def gauss(npts, job, a, b, x, w):\n",
    "    m = i = j = t = t1= pp = p1 = p2 = p3 = 0.\n",
    "    eps = 3.E-14\n",
    "    m = int((npts + 1)/2)\n",
    "    for i in range(1, m+1):\n",
    "        t = cos(math.pi*(float(i) - 0.25)/(float(npts) + 0.5))\n",
    "        t1 = 1\n",
    "        while abs(t - t1) >= eps:\n",
    "            p1 = 1. ; p2 = 0.\n",
    "            for j in range(1, npts + 1):\n",
    "                p3 = p2; p2 = p1\n",
    "                p1 = ((2.*float(j)-1)*t*p2 - (float(j)-1)*p3)/float(j)\n",
    "            pp = npts*(t*p1 - p2)/(t*t -1.)\n",
    "            t1 = t; t = t1 - p1/pp\n",
    "        x[i - 1] = -1; x[npts - i] = t\n",
    "        w[i - 1] = 2./((1. - t*t)*pp*pp)\n",
    "        w[npts - i]  = w[i - 1]\n",
    "    if(job == 0):\n",
    "        for  i in range(0,npts):\n",
    "            x[i] = x[i]*(b-a)/2. + (b+a)/2.\n",
    "            w[i] = w[i]*(b-a)/2.\n",
    "    if(job ==1):\n",
    "        for i in range(0,npts):\n",
    "            xi = x[i]\n",
    "            x[i] = a*b*(1. + xi)/(b+a-(b-a)*xi)\n",
    "            w[i] =w[i]*2.*a*b*b/((b+a-(b-a)*xi)*(b+a-(b-a)*xi))\n",
    "    if(job==2):\n",
    "        for i in range(0,npts):\n",
    "            xi = x[i]\n",
    "            x[i] = (b*xi + b + a + a)/(1. - xi)\n",
    "            w[i] = w[i]*2.*(a + b)/((1. - xi)*(1. - xi))\n",
    "            \n",
    "def gaussint(no, min, max):\n",
    "    quadra = 0\n",
    "    gauss(no, 0, min, max, x, w)\n",
    "    for n in range(0,no):\n",
    "        quadra += f(x[n])*w[n]\n",
    "    return quadra\n",
    "\n",
    "for i in range(3, max_in + 1, 2):\n",
    "    result = gaussint(i, vmin, vmax)\n",
    "    print(\"i =\", i, \"err\", abs(result - 1 + 1/ME))\n",
    "#     print(\"i =\", i, \"result\", result, \"err\", abs(result - 1./6))    "
   ]
  },
  {
   "cell_type": "code",
   "execution_count": null,
   "metadata": {},
   "outputs": [],
   "source": []
  }
 ],
 "metadata": {
  "kernelspec": {
   "display_name": "Python 3",
   "language": "python",
   "name": "python3"
  },
  "language_info": {
   "codemirror_mode": {
    "name": "ipython",
    "version": 3
   },
   "file_extension": ".py",
   "mimetype": "text/x-python",
   "name": "python",
   "nbconvert_exporter": "python",
   "pygments_lexer": "ipython3",
   "version": "3.7.4"
  }
 },
 "nbformat": 4,
 "nbformat_minor": 2
}
