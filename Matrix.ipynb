{
 "cells": [
  {
   "cell_type": "code",
   "execution_count": 2,
   "metadata": {},
   "outputs": [],
   "source": [
    "from numpy import array, random, zeros, diag\n",
    "from numpy.linalg import cond, inv, eig, eigh, norm, svd\n"
   ]
  },
  {
   "cell_type": "code",
   "execution_count": null,
   "metadata": {},
   "outputs": [],
   "source": []
  },
  {
   "cell_type": "markdown",
   "metadata": {},
   "source": [
    "## 逆行列"
   ]
  },
  {
   "cell_type": "code",
   "execution_count": 7,
   "metadata": {},
   "outputs": [
    {
     "name": "stdout",
     "output_type": "stream",
     "text": [
      "[[0.00000000e+00 1.04083409e-17 0.00000000e+00]\n",
      " [8.32667268e-17 0.00000000e+00 1.11022302e-16]\n",
      " [2.77555756e-17 0.00000000e+00 1.11022302e-16]]\n",
      "[[0.00000000e+00 0.00000000e+00 8.67361738e-19]\n",
      " [1.38777878e-17 0.00000000e+00 0.00000000e+00]\n",
      " [6.93889390e-18 3.46944695e-18 1.38777878e-17]]\n"
     ]
    }
   ],
   "source": [
    "A = array([[4,-2,1],[3,6,-4],[2,1,8]])\n",
    "\n",
    "# 逆行列を解析的に計算\n",
    "A_inv = array([[52,17,2],[-32,30,19],[-9,-8,30]])/263\n",
    "\n",
    "I = identity(3)\n",
    "\n",
    "print(abs(inv(A)@A - I))\n",
    "print(abs(inv(A) - A_inv))"
   ]
  },
  {
   "cell_type": "code",
   "execution_count": 8,
   "metadata": {},
   "outputs": [
    {
     "name": "stdout",
     "output_type": "stream",
     "text": [
      "x1 = [ 0.98479087 -2.14448669  3.77186312]\n",
      "x2 = [ 0.31178707 -0.03802281  2.67680608]\n",
      "x3 = [ 2.31939163 -2.96577947  4.79087452]\n"
     ]
    }
   ],
   "source": [
    "b1, b2, b3 = array([12,-25,30]), array([4,-10,22]), array([20,-30,40])\n",
    "x1, x2, x3 = solve(A, b1),solve(A, b2),solve(A, b3)\n",
    "print(\"x1 =\",x1)\n",
    "print(\"x2 =\",x2)\n",
    "print(\"x3 =\",x3)"
   ]
  },
  {
   "cell_type": "markdown",
   "metadata": {},
   "source": [
    "### 固有値問題"
   ]
  },
  {
   "cell_type": "code",
   "execution_count": 4,
   "metadata": {},
   "outputs": [
    {
     "data": {
      "text/plain": [
       "((array([5., 3.]), array([[ 0.70710678, -0.70710678],\n",
       "         [ 0.70710678,  0.70710678]])),\n",
       " (array([3., 5.]), array([[-0.70710678,  0.70710678],\n",
       "         [ 0.70710678,  0.70710678]])))"
      ]
     },
     "execution_count": 4,
     "metadata": {},
     "output_type": "execute_result"
    }
   ],
   "source": [
    "a, b = 2., 1.\n",
    "Z = array([[a,b],[-b,a]])\n",
    "# eigvals(Z)\n",
    "Z2 = Z*Z\n",
    "# 固有値の順番が逆\n",
    "eig(Z2),eigh(Z2)"
   ]
  },
  {
   "cell_type": "markdown",
   "metadata": {},
   "source": [
    "固有ベクトルは列ベクトルとして並んだ形で返される"
   ]
  },
  {
   "cell_type": "code",
   "execution_count": 11,
   "metadata": {},
   "outputs": [
    {
     "data": {
      "text/plain": [
       "(array([ 0.40824829,  0.81649658, -0.40824829]),\n",
       " array([-0.40824829, -0.81649658,  0.40824829]),\n",
       " array([-1., -1., -1.]))"
      ]
     },
     "execution_count": 11,
     "metadata": {},
     "output_type": "execute_result"
    }
   ],
   "source": [
    "B = array([[-2,2,-3],[2,1,-6],[-1,-2,0]])\n",
    "x1 = array([-1,-2,1])/sqrt(6)\n",
    "\n",
    "eig(B)[1][:,1],x1,eig(B)[1][:,1]/x1"
   ]
  },
  {
   "cell_type": "markdown",
   "metadata": {},
   "source": [
    "## 条件数"
   ]
  },
  {
   "cell_type": "code",
   "execution_count": 114,
   "metadata": {},
   "outputs": [],
   "source": [
    "# 10個のランダムな初期値に対する線形方程式の解との誤差を見る\n",
    "#     inv(H)@H@x_true - x_trueを見る\n",
    "def cond_test(A, verbose=1):\n",
    "    if verbose==1:\n",
    "        print(A)\n",
    "    n = len(A)\n",
    "    x_trues = x_trues = random.rand(10,n)\n",
    "    print('cond = {}'.format(cond(A)))\n",
    "    mne = norm(array([inv(A)@A@x_true - x_true for x_true in x_trues]).mean(axis=0))\n",
    "    print('mean norm error = {}'.format(mne))\n",
    "    return cond(A), mne"
   ]
  },
  {
   "cell_type": "code",
   "execution_count": 118,
   "metadata": {},
   "outputs": [
    {
     "name": "stdout",
     "output_type": "stream",
     "text": [
      "cond = 42.022341412497\n",
      "mean norm error = 4.051700249568336e-15\n"
     ]
    }
   ],
   "source": [
    "n  = 10\n",
    "A = random.rand(n,n)\n",
    "condA, mneA = cond_test(A, verbose=0)"
   ]
  },
  {
   "cell_type": "markdown",
   "metadata": {},
   "source": [
    "### Hilbert行列\n",
    "条件数が大きいことで知られるHilbert行列"
   ]
  },
  {
   "cell_type": "code",
   "execution_count": 116,
   "metadata": {},
   "outputs": [
    {
     "name": "stdout",
     "output_type": "stream",
     "text": [
      "cond = 16025028168113.176\n",
      "mean norm error = 0.001567884179099135\n"
     ]
    }
   ],
   "source": [
    "def hilbert_matrix(n):\n",
    "    H = zeros((n,n))\n",
    "    for i in range(n):\n",
    "        for j in range(n):\n",
    "            H[i][j] = 1/(i+j+1)\n",
    "    return H\n",
    "\n",
    "H = hilbert_matrix(n)\n",
    "\n",
    "condH, mneH = cond_test(H, verbose=0)"
   ]
  },
  {
   "cell_type": "code",
   "execution_count": 117,
   "metadata": {},
   "outputs": [
    {
     "name": "stdout",
     "output_type": "stream",
     "text": [
      "149.13024957458603 16025028168113.176\n"
     ]
    }
   ],
   "source": [
    "print(condA, condH)"
   ]
  },
  {
   "cell_type": "markdown",
   "metadata": {},
   "source": [
    "## 特異値分解\n",
    "- 対角化の一般化\n",
    "- 正方行列出ない場合にも適用できる\n",
    "- 直交行列U, 特異値が対角にならんだ行列S, 直交行列Vを用いて\n",
    "$ A = USV^{\\top}$\n",
    "と分解される．\n",
    "\n",
    "[参考](https://qiita.com/kidaufo/items/0f3da4ca4e19dc0e987e)"
   ]
  },
  {
   "cell_type": "code",
   "execution_count": 155,
   "metadata": {},
   "outputs": [],
   "source": [
    "def print_svd(U,S,Vh):\n",
    "    print('singular values = {}'.format(S))\n",
    "    print('U, S, V のshape: {}, {}, {}'.format(U.shape, S.shape, Vh.shape))\n",
    "    print('U = {}'.format(U))\n",
    "    print('S = {}'.format(S))\n",
    "    print('V = {}'.format(Vh))\n"
   ]
  },
  {
   "cell_type": "code",
   "execution_count": 161,
   "metadata": {},
   "outputs": [
    {
     "name": "stdout",
     "output_type": "stream",
     "text": [
      "singular values = [10.38950021  2.24906323]\n",
      "U, S, V のshape: (3, 3), (2,), (2, 2)\n",
      "U = [[-0.18828688  0.48160909 -0.85592099]\n",
      " [-0.71890943 -0.66134839 -0.21398025]\n",
      " [-0.6691168   0.57503999  0.47075654]]\n",
      "S = [10.38950021  2.24906323]\n",
      "V = [[-0.82450904 -0.56584878]\n",
      " [-0.56584878  0.82450904]]\n"
     ]
    }
   ],
   "source": [
    "B = array([[1,2],[7,3], [5,5]])\n",
    "\n",
    "# Vは転置されたものが返される\n",
    "U1, S1, Vh1 = svd(B)\n",
    "\n",
    "# 結果を確認\n",
    "print_svd(U1, S1, Vh1)"
   ]
  },
  {
   "cell_type": "markdown",
   "metadata": {},
   "source": [
    "### 元の行列の再構成"
   ]
  },
  {
   "cell_type": "code",
   "execution_count": 159,
   "metadata": {},
   "outputs": [
    {
     "name": "stdout",
     "output_type": "stream",
     "text": [
      "singular values = [10.38950021  2.24906323]\n",
      "U, S, V のshape: (3, 2), (2,), (2, 2)\n",
      "U = [[-0.18828688  0.48160909]\n",
      " [-0.71890943 -0.66134839]\n",
      " [-0.6691168   0.57503999]]\n",
      "S = [10.38950021  2.24906323]\n",
      "V = [[-0.82450904 -0.56584878]\n",
      " [-0.56584878  0.82450904]]\n",
      "reconstruction error : [[-4.44089210e-16  6.66133815e-16]\n",
      " [ 0.00000000e+00  4.44089210e-16]\n",
      " [ 0.00000000e+00  1.77635684e-15]]\n"
     ]
    }
   ],
   "source": [
    "#  full_matrices=Falseのオプションをつけると元の行列を簡単に再構成できる\n",
    "U, S, Vh = svd(B , full_matrices=False)\n",
    "\n",
    "print_svd(U,S,Vh)\n",
    "B_re = U@diag(S)@Vh\n",
    "print('reconstruction error : {}'.format(B - B_re))"
   ]
  },
  {
   "cell_type": "markdown",
   "metadata": {},
   "source": [
    "## 特異値分解(svd)と主成分分析(PCA)\n",
    "$ n $次元データを$ m $個並べた行列$ X $を主成分分析する．\n",
    "$ XX^{\\top} $を固有値分解すれば良いが$ X $の性質によってこの分解が不安定になる場合がある．\n",
    "この場合，代わりに$ X $のsvdを使って主成分分析を導く．"
   ]
  },
  {
   "cell_type": "markdown",
   "metadata": {},
   "source": [
    "### まずsvd経由のPCAの正当性を確認"
   ]
  },
  {
   "cell_type": "code",
   "execution_count": 30,
   "metadata": {},
   "outputs": [],
   "source": [
    "def pca(X):\n",
    "    X2 = X@X.T\n",
    "    print('X2 = {}'.format(X2)) # degenerateな行列(rank落ち)\n",
    "    eigX2 = eig(X2)\n",
    "    print('eigval: {} \\n eigvec: {}'.format(eigX2[0], eigX2[1]))\n",
    "    print('PCA transform: {}'.format(eigX2[1]))\n",
    "    print('----------')\n",
    "    return eigX2[1]\n",
    "\n",
    "def pca_via_svd(X):\n",
    "    Ux, Sx, Vhx = svd(X)\n",
    "    print('PCA transform: {}'.format(Ux))\n",
    "    return Ux"
   ]
  },
  {
   "cell_type": "code",
   "execution_count": 26,
   "metadata": {},
   "outputs": [
    {
     "name": "stdout",
     "output_type": "stream",
     "text": [
      "X2 = [[ 63  84  50]\n",
      " [ 84 150  77]\n",
      " [ 50  77  59]]\n",
      "eigval: [246.11164093  10.30252956  15.5858295 ] \n",
      " eigvec: [[-0.47090842 -0.83753176  0.27710253]\n",
      " [-0.76439183  0.23057168 -0.60211447]\n",
      " [-0.440398    0.49535569  0.74878058]]\n",
      "PCA transform: [[-0.47090842 -0.83753176  0.27710253]\n",
      " [-0.76439183  0.23057168 -0.60211447]\n",
      " [-0.440398    0.49535569  0.74878058]]\n",
      "----------\n",
      "PCA transform: [[-0.47090842  0.27710253 -0.83753176]\n",
      " [-0.76439183 -0.60211447  0.23057168]\n",
      " [-0.440398    0.74878058  0.49535569]]\n"
     ]
    }
   ],
   "source": [
    "A = array([[1,2,3,7], [4,2,9,7],[3,5,3,4]])\n",
    "\n",
    "# 主成分分析\n",
    "TA = pca(A)\n",
    "# svd経由\n",
    "TA_svd= pca_via_svd(A)\n",
    "\n",
    "# TとT_svdは一致"
   ]
  },
  {
   "cell_type": "markdown",
   "metadata": {},
   "source": [
    "### 素性の悪い行列でPCA"
   ]
  },
  {
   "cell_type": "code",
   "execution_count": 28,
   "metadata": {},
   "outputs": [
    {
     "name": "stdout",
     "output_type": "stream",
     "text": [
      "X2 = [[1. 1. 1.]\n",
      " [1. 1. 1.]\n",
      " [1. 1. 1.]]\n",
      "X2 = [[1. 1. 1.]\n",
      " [1. 1. 1.]\n",
      " [1. 1. 1.]]\n",
      "eigval: [9.99997862e-11 3.00000000e+00 1.00000033e-10] \n",
      " eigvec: [[-0.81649658  0.57735027 -0.04663004]\n",
      " [ 0.40824829  0.57735027 -0.68263769]\n",
      " [ 0.40824829  0.57735027  0.72926773]]\n",
      "PCA transform: [[-0.81649658  0.57735027 -0.04663004]\n",
      " [ 0.40824829  0.57735027 -0.68263769]\n",
      " [ 0.40824829  0.57735027  0.72926773]]\n",
      "----------\n",
      "PCA transform: [[-5.77350269e-01 -2.62681588e-16  8.16496581e-01]\n",
      " [-5.77350269e-01 -7.07106781e-01 -4.08248290e-01]\n",
      " [-5.77350269e-01  7.07106781e-01 -4.08248290e-01]]\n"
     ]
    }
   ],
   "source": [
    "epsilon = 1e-5\n",
    "X = array([[1, epsilon, 0, 0],\n",
    "                   [1, 0, epsilon, 0],\n",
    "                   [1, 0, 0, epsilon]])\n",
    "\n",
    "# 主成分分析\n",
    "X2 = X@X.T\n",
    "print('X2 = {}'.format(X2)) # degenerateな行列(rank落ち)\n",
    "TX = pca(X)\n",
    "\n",
    "# svdは安定\n",
    "TX_svd = pca_via_svd(X)"
   ]
  },
  {
   "cell_type": "code",
   "execution_count": null,
   "metadata": {},
   "outputs": [],
   "source": []
  },
  {
   "cell_type": "code",
   "execution_count": null,
   "metadata": {},
   "outputs": [],
   "source": []
  }
 ],
 "metadata": {
  "kernelspec": {
   "display_name": "Python 3",
   "language": "python",
   "name": "python3"
  },
  "language_info": {
   "codemirror_mode": {
    "name": "ipython",
    "version": 3
   },
   "file_extension": ".py",
   "mimetype": "text/x-python",
   "name": "python",
   "nbconvert_exporter": "python",
   "pygments_lexer": "ipython3",
   "version": "3.7.4"
  }
 },
 "nbformat": 4,
 "nbformat_minor": 2
}
